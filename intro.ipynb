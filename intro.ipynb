{
 "cells": [
  {
   "cell_type": "code",
   "execution_count": null,
   "id": "bd090fa8-eff6-437c-ab14-bf6c82745b26",
   "metadata": {},
   "outputs": [],
   "source": [
    "print(\"Hello Python\")"
   ]
  },
  {
   "cell_type": "code",
   "execution_count": 1,
   "id": "1ec80bfb-9552-4541-9d3b-761de6a72f9e",
   "metadata": {
    "tags": []
   },
   "outputs": [
    {
     "data": {
      "text/markdown": [
       "\n",
       "## Introductory Sentence\n",
       "\n",
       "Here is an ordered list of data science languages:\n",
       "1. Python\n",
       "2. R\n",
       "3. Julia\n",
       "4. Scala\n",
       "5. SQL\n"
      ],
      "text/plain": [
       "<IPython.core.display.Markdown object>"
      ]
     },
     "execution_count": 1,
     "metadata": {},
     "output_type": "execute_result"
    }
   ],
   "source": [
    "from IPython.display import Markdown\n",
    "\n",
    "# Markdown content\n",
    "markdown_content = \"\"\"\n",
    "## Introductory Sentence\n",
    "\n",
    "Here is an ordered list of data science languages:\n",
    "1. Python\n",
    "2. R\n",
    "3. Julia\n",
    "4. Scala\n",
    "5. SQL\n",
    "\"\"\"\n",
    "\n",
    "# Display markdown content\n",
    "Markdown(markdown_content)"
   ]
  },
  {
   "cell_type": "code",
   "execution_count": 2,
   "id": "220f8da2-92ce-4859-9955-5a36bb0bdb89",
   "metadata": {
    "tags": []
   },
   "outputs": [
    {
     "data": {
      "text/markdown": [
       "\n",
       "## Introductory Sentence\n",
       "\n",
       "Here is an ordered list of data science libraries:\n",
       "1. Pandas\n",
       "2. NumPy\n",
       "3. Matplotlib\n",
       "4. Seaborn\n",
       "5. Scikit-learn\n"
      ],
      "text/plain": [
       "<IPython.core.display.Markdown object>"
      ]
     },
     "execution_count": 2,
     "metadata": {},
     "output_type": "execute_result"
    }
   ],
   "source": [
    "from IPython.display import Markdown\n",
    "\n",
    "# Markdown content\n",
    "markdown_content = \"\"\"\n",
    "## Introductory Sentence\n",
    "\n",
    "Here is an ordered list of data science libraries:\n",
    "1. Pandas\n",
    "2. NumPy\n",
    "3. Matplotlib\n",
    "4. Seaborn\n",
    "5. Scikit-learn\n",
    "\"\"\"\n",
    "\n",
    "# Display markdown content\n",
    "Markdown(markdown_content)"
   ]
  },
  {
   "cell_type": "code",
   "execution_count": 3,
   "id": "4450d8cc-32fd-425e-8f81-5ee3db8506d8",
   "metadata": {
    "tags": []
   },
   "outputs": [
    {
     "data": {
      "text/markdown": [
       "\n",
       "| Tool           | Description                                |\n",
       "|----------------|--------------------------------------------|\n",
       "| Python         | Programming language used for data analysis|\n",
       "| R              | Statistical computing and graphics         |\n",
       "| Julia          | High-level, high-performance programming language |\n",
       "| MATLAB         | Numerical computing environment            |\n",
       "| SQL            | Database management language               |\n"
      ],
      "text/plain": [
       "<IPython.core.display.Markdown object>"
      ]
     },
     "metadata": {},
     "output_type": "display_data"
    }
   ],
   "source": [
    "from IPython.display import Markdown, display\n",
    "\n",
    "# Define the markdown content with the table\n",
    "markdown_content = \"\"\"\n",
    "| Tool           | Description                                |\n",
    "|----------------|--------------------------------------------|\n",
    "| Python         | Programming language used for data analysis|\n",
    "| R              | Statistical computing and graphics         |\n",
    "| Julia          | High-level, high-performance programming language |\n",
    "| MATLAB         | Numerical computing environment            |\n",
    "| SQL            | Database management language               |\n",
    "\"\"\"\n",
    "\n",
    "# Display the markdown content\n",
    "display(Markdown(markdown_content))"
   ]
  },
  {
   "cell_type": "code",
   "execution_count": 4,
   "id": "6297aa78-7fcc-40fd-9b71-b386e5873ec8",
   "metadata": {
    "tags": []
   },
   "outputs": [
    {
     "data": {
      "text/markdown": [
       "\n",
       "## Introductory Sentence\n",
       "\n",
       "Here are some examples of arithmetic expressions:\n",
       "\n",
       "- Addition: 2 + 3 = 5\n",
       "- Subtraction: 5 - 2 = 3\n",
       "- Multiplication: 4 * 6 = 24\n",
       "- Division: 10 / 2 = 5\n"
      ],
      "text/plain": [
       "<IPython.core.display.Markdown object>"
      ]
     },
     "metadata": {},
     "output_type": "display_data"
    }
   ],
   "source": [
    "from IPython.display import Markdown, display\n",
    "\n",
    "# Define the markdown content\n",
    "markdown_content = \"\"\"\n",
    "## Introductory Sentence\n",
    "\n",
    "Here are some examples of arithmetic expressions:\n",
    "\n",
    "- Addition: 2 + 3 = 5\n",
    "- Subtraction: 5 - 2 = 3\n",
    "- Multiplication: 4 * 6 = 24\n",
    "- Division: 10 / 2 = 5\n",
    "\"\"\"\n",
    "\n",
    "# Display the markdown content\n",
    "display(Markdown(markdown_content))"
   ]
  },
  {
   "cell_type": "code",
   "execution_count": 5,
   "id": "d918a0f6-ad33-4eba-a1d2-5a5d83fb6105",
   "metadata": {
    "tags": []
   },
   "outputs": [
    {
     "name": "stdout",
     "output_type": "stream",
     "text": [
      "The product of 5 and 3 is: 15\n",
      "The sum of 5 and 3 is: 8\n"
     ]
    }
   ],
   "source": [
    "# Define two numbers\n",
    "num1 = 5\n",
    "num2 = 3\n",
    "\n",
    "# Multiply the numbers\n",
    "product = num1 * num2\n",
    "\n",
    "# Add the numbers\n",
    "sum_result = num1 + num2\n",
    "\n",
    "# Print the results\n",
    "print(f\"The product of {num1} and {num2} is: {product}\")\n",
    "print(f\"The sum of {num1} and {num2} is: {sum_result}\")"
   ]
  },
  {
   "cell_type": "code",
   "execution_count": 6,
   "id": "ea8801a4-c5af-4951-95e6-e384a04b16e6",
   "metadata": {
    "tags": []
   },
   "outputs": [
    {
     "name": "stdout",
     "output_type": "stream",
     "text": [
      "150 minutes is equal to 2.5 hours\n"
     ]
    }
   ],
   "source": [
    "# Define the number of minutes\n",
    "minutes = 150\n",
    "\n",
    "# Convert minutes to hours\n",
    "hours = minutes / 60\n",
    "\n",
    "# Print the result\n",
    "print(f\"{minutes} minutes is equal to {hours} hours\")"
   ]
  },
  {
   "cell_type": "code",
   "execution_count": 7,
   "id": "2f979fe8-8b86-45a8-bb33-45a4d803da7b",
   "metadata": {
    "tags": []
   },
   "outputs": [
    {
     "data": {
      "text/markdown": [
       "\n",
       "## Objectives\n",
       "\n",
       "Here are the objectives of the project:\n",
       "- Analyze the dataset\n",
       "- Visualize the data\n",
       "- Build predictive models\n",
       "- Evaluate model performance\n"
      ],
      "text/plain": [
       "<IPython.core.display.Markdown object>"
      ]
     },
     "metadata": {},
     "output_type": "display_data"
    }
   ],
   "source": [
    "from IPython.display import Markdown, display\n",
    "\n",
    "# Define the markdown content\n",
    "markdown_content = \"\"\"\n",
    "## Objectives\n",
    "\n",
    "Here are the objectives of the project:\n",
    "- Analyze the dataset\n",
    "- Visualize the data\n",
    "- Build predictive models\n",
    "- Evaluate model performance\n",
    "\"\"\"\n",
    "\n",
    "# Display the markdown content\n",
    "display(Markdown(markdown_content))"
   ]
  },
  {
   "cell_type": "code",
   "execution_count": 8,
   "id": "a0aa3d11-dcba-4557-ac33-7dc8f3dea09d",
   "metadata": {
    "tags": []
   },
   "outputs": [
    {
     "data": {
      "text/markdown": [
       "\n",
       "## Author\n",
       "\n",
       "This notebook was authored by: Lakshmi Holla\n"
      ],
      "text/plain": [
       "<IPython.core.display.Markdown object>"
      ]
     },
     "metadata": {},
     "output_type": "display_data"
    }
   ],
   "source": [
    "from IPython.display import Markdown, display\n",
    "\n",
    "# Define the author's name\n",
    "author_name = \"Lakshmi Holla\"\n",
    "\n",
    "# Define the markdown content\n",
    "markdown_content = f\"\"\"\n",
    "## Author\n",
    "\n",
    "This notebook was authored by: {author_name}\n",
    "\"\"\"\n",
    "\n",
    "# Display the markdown content\n",
    "display(Markdown(markdown_content))"
   ]
  },
  {
   "cell_type": "code",
   "execution_count": null,
   "id": "305a401b-ea0d-4d87-9a3f-169bfa525aea",
   "metadata": {},
   "outputs": [],
   "source": []
  }
 ],
 "metadata": {
  "kernelspec": {
   "display_name": "Python 3 (ipykernel)",
   "language": "python",
   "name": "python3"
  },
  "language_info": {
   "codemirror_mode": {
    "name": "ipython",
    "version": 3
   },
   "file_extension": ".py",
   "mimetype": "text/x-python",
   "name": "python",
   "nbconvert_exporter": "python",
   "pygments_lexer": "ipython3",
   "version": "3.11.5"
  }
 },
 "nbformat": 4,
 "nbformat_minor": 5
}
